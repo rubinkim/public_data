{
 "cells": [
  {
   "cell_type": "markdown",
   "metadata": {},
   "source": [
    "##### 선형회귀"
   ]
  },
  {
   "cell_type": "code",
   "execution_count": 1,
   "metadata": {},
   "outputs": [],
   "source": [
    "import warnings\n",
    "warnings.filterwarnings(\"always\")\n",
    "warnings.filterwarnings(\"ignore\")\n",
    "\n",
    "import numpy as np\n",
    "import pandas as pd\n",
    "\n",
    "import matplotlib.pyplot as plt\n",
    "import seaborn as sns\n",
    "import plotly.express as px\n",
    "\n",
    "# 전처리\n",
    "from sklearn.preprocessing import StandardScaler, MinMaxScaler\n",
    "from sklearn.model_selection import train_test_split, KFold\n",
    "\n",
    "# 모형\n",
    "from sklearn.linear_model import LinearRegression, Ridge, Lasso, ElasticNet\n",
    "\n",
    "# 다항회귀\n",
    "from sklearn.preprocessing import PolynomialFeatures\n",
    "\n",
    "# 샘플데이터\n",
    "from sklearn.datasets import fetch_california_housing\n",
    "\n",
    "# 평가\n",
    "from sklearn.metrics import r2_score, mean_absolute_error, mean_squared_error"
   ]
  },
  {
   "cell_type": "markdown",
   "metadata": {},
   "source": [
    "##### 데이터 생성"
   ]
  },
  {
   "cell_type": "code",
   "execution_count": 33,
   "metadata": {},
   "outputs": [
    {
     "data": {
      "text/plain": [
       "[(50,), (50,)]"
      ]
     },
     "execution_count": 33,
     "metadata": {},
     "output_type": "execute_result"
    }
   ],
   "source": [
    "np.random.seed(2022)\n",
    "x = np.arange(50)\n",
    "y = 3 * x + 2 + np.random.randn()\n",
    "\n",
    "[k.shape for k in [x, y]]"
   ]
  },
  {
   "cell_type": "code",
   "execution_count": 34,
   "metadata": {},
   "outputs": [
    {
     "name": "stdout",
     "output_type": "stream",
     "text": [
      "{0: (0, 2.0), 1: (1, 5.0), 2: (2, 8.0), 3: (3, 11.0), 4: (4, 14.0), 5: (5, 17.0), 6: (6, 20.0), 7: (7, 23.0), 8: (8, 26.0), 9: (9, 29.0), 10: (10, 32.0), 11: (11, 35.0), 12: (12, 38.0), 13: (13, 41.0), 14: (14, 44.0), 15: (15, 47.0), 16: (16, 50.0), 17: (17, 53.0), 18: (18, 56.0), 19: (19, 59.0), 20: (20, 62.0), 21: (21, 65.0), 22: (22, 68.0), 23: (23, 71.0), 24: (24, 74.0), 25: (25, 77.0), 26: (26, 80.0), 27: (27, 83.0), 28: (28, 86.0), 29: (29, 89.0), 30: (30, 92.0), 31: (31, 95.0), 32: (32, 98.0), 33: (33, 101.0), 34: (34, 104.0), 35: (35, 107.0), 36: (36, 110.0), 37: (37, 113.0), 38: (38, 116.0), 39: (39, 119.0), 40: (40, 122.0), 41: (41, 125.0), 42: (42, 128.0), 43: (43, 131.0), 44: (44, 134.0), 45: (45, 137.0), 46: (46, 140.0), 47: (47, 143.0), 48: (48, 146.0), 49: (49, 149.0)}\n"
     ]
    }
   ],
   "source": [
    "xy_pair = {}\n",
    "for i, (j,k) in enumerate(zip(x, y)):\n",
    "    xy_pair[i] = (j, np.round(k,2))\n",
    "    \n",
    "print(xy_pair)"
   ]
  },
  {
   "cell_type": "code",
   "execution_count": 35,
   "metadata": {},
   "outputs": [
    {
     "data": {
      "image/png": "[encoded data removed]",
      "text/plain": [
       "<Figure size 432x288 with 1 Axes>"
      ]
     },
     "metadata": {
      "needs_background": "light"
     },
     "output_type": "display_data"
    }
   ],
   "source": [
    "plt.plot(x, y, 'b.')\n",
    "plt.show()\n"
   ]
  },
  {
   "cell_type": "code",
   "execution_count": 4,
   "metadata": {},
   "outputs": [],
   "source": [
    "# 오차(Error)\n",
    "# 추정된 a, b가 주어진 자료 x와 y를 얼마나 잘 설명하고 있는가?\n",
    "# 손실(Loss), 비용(Cost)\n",
    "# 추정된 값(Y_hat)과 실제값(Y)사이의 차이(오차, 잔차)는 작으면 작을수록 자료간의 관계를 잘 설명하고 있다고 판단"
   ]
  },
  {
   "cell_type": "code",
   "execution_count": null,
   "metadata": {},
   "outputs": [],
   "source": [
    "# 오차에 대한 정의\n",
    "# 1. LAD(Least Absolute Error) : 최소절대오차, L1 loss(L1 norm을 사용하기 때문), manhattan distance사용\n",
    "# 2. LSE(Least Squared Error)  : 최소제곱오차. L2 loss(L2 norm을 사용하기 때문), euclidean distance사용"
   ]
  },
  {
   "cell_type": "code",
   "execution_count": 36,
   "metadata": {},
   "outputs": [],
   "source": [
    "# 오차함수\n",
    "def error(a, b):\n",
    "    return np.mean(np.square(y - (a*x +b)))\n",
    "\n",
    "# 기울기함수(편미분)\n",
    "def grad_fa(a, b):\n",
    "    return np.mean(-2 * x * (y-(a*x+b)))\n",
    "\n",
    "# 기울기함수(편미분)\n",
    "def grad_fb(a, b):\n",
    "    return np.mean(-2 * (y-(a*x+b)))"
   ]
  },
  {
   "cell_type": "code",
   "execution_count": 37,
   "metadata": {},
   "outputs": [],
   "source": [
    "beta0, beta1 = 0, 0\n",
    "\n",
    "lr = 0.001\n",
    "maxIter = 100\n",
    "fval = []\n",
    "beta0_list = []\n",
    "beta1_list = []\n",
    "\n",
    "for i in range(maxIter, 0, -1):\n",
    "    fval.append(error(beta0, beta1))\n",
    "    grad = np.array([grad_fa(beta0, beta1), grad_fb(beta0, beta1)])\n",
    "    beta0 = beta0 - lr * grad[0]\n",
    "    beta1 = beta1 - lr * grad[1]\n",
    "    beta0_list.append(beta0)\n",
    "    beta1_list.append(beta1)\n",
    "    "
   ]
  },
  {
   "cell_type": "code",
   "execution_count": 38,
   "metadata": {},
   "outputs": [
    {
     "name": "stdout",
     "output_type": "stream",
     "text": [
      "[4.948974132944787, 1.8880581446519633, 3.7811416459524794, 2.6102492062129645, 3.334380935420646, 2.886468057452316, 3.1634475895955068, 2.9920918313070137, 3.0980248938454578, 3.0324589156386823, 3.072962601412103, 3.0478637816416283, 3.0633391732325763, 3.0537200353076717, 3.0596215201518855, 3.0559237522439053, 3.0581630058526588, 3.0567303233832215, 3.057568704047928, 3.057002490057096, 3.057305021786949, 3.0570702715719524, 3.057167846871887, 3.057059908225008, 3.057079101430982, 3.0570196899329325, 3.0570089187587333, 3.0569680887138486, 3.056945874082306, 3.0569121705213322, 3.0568855971124647, 3.056854638214509, 3.056826416069949, 3.056796525663799, 3.0567676914206197, 3.0567382283112696, 3.056709178489004, 3.0566798973848033, 3.0566507836426218, 3.056621590694511, 3.056592471026617, 3.0565633303159947, 3.056534226887505, 3.0565051246555868, 3.056476045926147, 3.056446976890832, 3.0564179260774353, 3.056388888199178, 3.0563598665133966, 3.0563308589930256, 3.0563018668793296, 3.056272889392166, 3.05624392700161, 3.0562149794045004, 3.056186046775919, 3.0561571289951672, 3.0561282261244878, 3.0560993381129857, 3.0560704649797437, 3.056041606700572, 3.0560127632780514, 3.0559839346982103, 3.055955120957321, 3.0559263220453285, 3.0558975379560938, 3.055868768681066, 3.0558400142131914, 3.055811274544494, 3.0557825496675783, 3.0557538395746935, 3.055725144258316, 3.055696463710788, 3.055667797924541, 3.0556391468919566, 3.0556105106054554, 3.0555818890574384, 3.0555532822403264, 3.0555246901465343, 3.0554961127684854, 3.0554675500986055, 3.0554390021293254, 3.0554104688530774, 3.055381950262301, 3.055353446349437, 3.055324957106931, 3.055296482527233, 3.0552680226027964, 3.0552395773260774, 3.0552111466895386, 3.0551827306856434, 3.055154329306862, 3.0551259425456663, 3.0550975703945342, 3.055069212845944, 3.0550408698923825, 3.0550125415263367, 3.054984227740299, 3.0549559285267645, 3.0549276438782353, 3.0548993737872117]\n"
     ]
    }
   ],
   "source": [
    "print(beta0_list)"
   ]
  },
  {
   "cell_type": "code",
   "execution_count": 39,
   "metadata": {},
   "outputs": [
    {
     "name": "stdout",
     "output_type": "stream",
     "text": [
      "[4.949, 1.888, 3.781, 2.61, 3.334, 2.886, 3.163, 2.992, 3.098, 3.032, 3.073, 3.048, 3.063, 3.054, 3.06, 3.056, 3.058, 3.057, 3.058, 3.057, 3.057, 3.057, 3.057, 3.057, 3.057, 3.057, 3.057, 3.057, 3.057, 3.057, 3.057, 3.057, 3.057, 3.057, 3.057, 3.057, 3.057, 3.057, 3.057, 3.057, 3.057, 3.057, 3.057, 3.057, 3.056, 3.056, 3.056, 3.056, 3.056, 3.056, 3.056, 3.056, 3.056, 3.056, 3.056, 3.056, 3.056, 3.056, 3.056, 3.056, 3.056, 3.056, 3.056, 3.056, 3.056, 3.056, 3.056, 3.056, 3.056, 3.056, 3.056, 3.056, 3.056, 3.056, 3.056, 3.056, 3.056, 3.056, 3.055, 3.055, 3.055, 3.055, 3.055, 3.055, 3.055, 3.055, 3.055, 3.055, 3.055, 3.055, 3.055, 3.055, 3.055, 3.055, 3.055, 3.055, 3.055, 3.055, 3.055, 3.055]\n"
     ]
    }
   ],
   "source": [
    "print([np.round(x, 3) for x in beta0_list])"
   ]
  },
  {
   "cell_type": "code",
   "execution_count": 40,
   "metadata": {},
   "outputs": [
    {
     "name": "stdout",
     "output_type": "stream",
     "text": [
      "[0.151, 0.059, 0.118, 0.083, 0.106, 0.093, 0.103, 0.099, 0.103, 0.102, 0.104, 0.104, 0.106, 0.106, 0.107, 0.108, 0.109, 0.11, 0.111, 0.112, 0.113, 0.114, 0.115, 0.116, 0.117, 0.118, 0.119, 0.12, 0.121, 0.122, 0.123, 0.124, 0.125, 0.126, 0.127, 0.128, 0.129, 0.13, 0.131, 0.132, 0.133, 0.133, 0.134, 0.135, 0.136, 0.137, 0.138, 0.139, 0.14, 0.141, 0.142, 0.143, 0.144, 0.145, 0.146, 0.147, 0.148, 0.149, 0.15, 0.151, 0.152, 0.153, 0.154, 0.154, 0.155, 0.156, 0.157, 0.158, 0.159, 0.16, 0.161, 0.162, 0.163, 0.164, 0.165, 0.166, 0.167, 0.168, 0.169, 0.17, 0.171, 0.172, 0.172, 0.173, 0.174, 0.175, 0.176, 0.177, 0.178, 0.179, 0.18, 0.181, 0.182, 0.183, 0.184, 0.185, 0.186, 0.187, 0.187, 0.188]\n"
     ]
    }
   ],
   "source": [
    "print([np.round(x, 3) for x in beta1_list])"
   ]
  },
  {
   "cell_type": "code",
   "execution_count": 21,
   "metadata": {},
   "outputs": [
    {
     "name": "stdout",
     "output_type": "stream",
     "text": [
      "[7295.106219477046, 1681112.075888889, 387629439.09085757, 89379504789.26607, 20609105395539.27, 4752042721944077.0, 1.0957249040064634e+18, 2.526519931556505e+20, 5.825643773553071e+22, 1.3432755844292716e+25, 3.0973217138941215e+27, 7.141797193787339e+29, 1.6467539335157443e+32, 3.7970813843727927e+34, 8.755301412135691e+36, 2.018795360374064e+39, 4.6549336398844746e+41, 1.0733335144832706e+44, 2.4748899177467096e+46, 5.7065954079642066e+48, 1.3158254400198756e+51, 3.0340272348502894e+53, 6.995852931430053e+55, 1.6131021394939273e+58, 3.7194871560971775e+60, 8.576384821305946e+62, 1.977540814532801e+65, 4.559809004171486e+67, 1.05139969813647e+70, 2.424314975101285e+72, 5.589979823008733e+74, 1.2889362456022973e+77, 2.972026192991055e+79, 6.852891073520414e+81, 1.5801380275950064e+84, 3.643478583658825e+86, 8.40112443201254e+88, 1.9371293147902042e+91, 4.466628262189231e+93, 1.0299141043533432e+96, 2.374773542999202e+98, 5.4757473042569036e+100, 1.2625965380349038e+103, 2.911292156631141e+105, 6.712850673940066e+107, 1.5478475448772005e+110, 3.5690232638173066e+112, 8.22944552893916e+114, 1.89754363330604e+117, 4.375351690023814e+119, 1.0088675736030733e+122, 2.3262445014156407e+124, 5.363849153204682e+126, 1.236795088427978e+129, 2.851799234222797e+131, 6.575672032018523e+133, 1.5162169255738193e+136, 3.49608945549985e+138, 8.061274923594146e+140, 1.8587668942949508e+143, 4.285940375528673e+145, 9.882511335319704e+147, 2.278707161918358e+150, 5.254237666513174e+152, 1.2115208973567505e+155, 2.7935220633180026e+157, 6.441296667082196e+159, 1.4852326852247641e+162, 3.424646066269773e+164, 7.89654092310941e+166, 1.8207825668321092e+169, 4.198356201735839e+171, 9.680559951384388e+173, 2.232141258847949e+176, 5.14686611567214e+178, 1.1867631901722091e+181, 2.7364357997561625e+183, 6.309667293523457e+185, 1.454881614927973e+188, 3.354662639071456e+190, 7.735173299677045e+192, 1.7835744578059244e+195, 4.112561830606324e+197, 9.482735490261432e+199, 2.186526940678392e+202, 5.041688727079113e+204, 1.1625114124077617e+207, 2.680516107072794e+209, 6.180727796379191e+211, 1.425150775708319e+214, 3.2861093392461994e+216, 7.577103260610503e+218, 1.7471267050147577e+221, 4.0285206871125324e+223, 9.288953617337413e+225, 2.1418447615541705e+228, 4.938660662525732e+230, 1.1387552252797682e+233, 2.625739146124659e+235, 6.054423207408438e+237]\n"
     ]
    }
   ],
   "source": [
    "print(fval)"
   ]
  },
  {
   "cell_type": "code",
   "execution_count": 40,
   "metadata": {},
   "outputs": [
    {
     "name": "stdout",
     "output_type": "stream",
     "text": [
      "[nan nan]\n"
     ]
    }
   ],
   "source": [
    "print(beta0)"
   ]
  },
  {
   "cell_type": "code",
   "execution_count": 9,
   "metadata": {},
   "outputs": [
    {
     "data": {
      "image/png": "[encoded data removed]",
      "text/plain": [
       "<Figure size 432x288 with 1 Axes>"
      ]
     },
     "metadata": {
      "needs_background": "light"
     },
     "output_type": "display_data"
    }
   ],
   "source": [
    "plt.plot(fval)\n",
    "plt.grid()\n",
    "plt.show()"
   ]
  },
  {
   "cell_type": "code",
   "execution_count": 12,
   "metadata": {},
   "outputs": [
    {
     "data": {
      "text/plain": [
       "array([-1.14285927e+291, -3.46431258e+289])"
      ]
     },
     "execution_count": 12,
     "metadata": {},
     "output_type": "execute_result"
    }
   ],
   "source": [
    "beta0"
   ]
  },
  {
   "cell_type": "code",
   "execution_count": 11,
   "metadata": {},
   "outputs": [
    {
     "data": {
      "text/plain": [
       "[<matplotlib.lines.Line2D at 0x25e990bc550>]"
      ]
     },
     "execution_count": 11,
     "metadata": {},
     "output_type": "execute_result"
    },
    {
     "data": {
      "image/png": "[encoded data removed]",
      "text/plain": [
       "<Figure size 432x288 with 1 Axes>"
      ]
     },
     "metadata": {
      "needs_background": "light"
     },
     "output_type": "display_data"
    }
   ],
   "source": [
    "plt.plot(x, y, 'b.')\n",
    "plt.plot(x, beta0[0]*x + beta0[1], 'r-')"
   ]
  },
  {
   "cell_type": "code",
   "execution_count": null,
   "metadata": {},
   "outputs": [],
   "source": []
  }
 ],
 "metadata": {
  "kernelspec": {
   "display_name": "Python 3.9.12 ('base')",
   "language": "python",
   "name": "python3"
  },
  "language_info": {
   "codemirror_mode": {
    "name": "ipython",
    "version": 3
   },
   "file_extension": ".py",
   "mimetype": "text/x-python",
   "name": "python",
   "nbconvert_exporter": "python",
   "pygments_lexer": "ipython3",
   "version": "3.9.12"
  },
  "orig_nbformat": 4,
  "vscode": {
   "interpreter": {
    "hash": "9e765a96e5f40489db376370017179d79de916a29247b681d0d65e2e01ae9302"
   }
  }
 },
 "nbformat": 4,
 "nbformat_minor": 2
}
