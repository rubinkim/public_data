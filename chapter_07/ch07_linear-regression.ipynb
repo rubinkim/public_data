{
 "cells": [
  {
   "cell_type": "markdown",
   "metadata": {},
   "source": [
    "##### 선형회귀"
   ]
  },
  {
   "cell_type": "code",
   "execution_count": 1,
   "metadata": {},
   "outputs": [],
   "source": [
    "import warnings\n",
    "warnings.filterwarnings(\"always\")\n",
    "warnings.filterwarnings(\"ignore\")\n",
    "\n",
    "import numpy as np\n",
    "import pandas as pd\n",
    "\n",
    "import matplotlib.pyplot as plt\n",
    "import seaborn as sns\n",
    "import plotly.express as px\n",
    "\n",
    "# 전처리\n",
    "from sklearn.preprocessing import StandardScaler, MinMaxScaler\n",
    "from sklearn.model_selection import train_test_split, KFold\n",
    "\n",
    "# 모형\n",
    "from sklearn.linear_model import LinearRegression, Ridge, Lasso, ElasticNet\n",
    "\n",
    "# 다항회귀\n",
    "from sklearn.preprocessing import PolynomialFeatures\n",
    "\n",
    "# 샘플데이터\n",
    "from sklearn.datasets import fetch_california_housing\n",
    "\n",
    "# 평가\n",
    "from sklearn.metrics import r2_score, mean_absolute_error, mean_squared_error"
   ]
  },
  {
   "cell_type": "markdown",
   "metadata": {},
   "source": [
    "##### 데이터 생성"
   ]
  },
  {
   "cell_type": "code",
   "execution_count": 7,
   "metadata": {},
   "outputs": [
    {
     "data": {
      "text/plain": [
       "[(50,), (50,)]"
      ]
     },
     "execution_count": 7,
     "metadata": {},
     "output_type": "execute_result"
    }
   ],
   "source": [
    "np.random.seed(2022)\n",
    "x = np.arange(50)\n",
    "y = 3 * x + 2 * np.random.randn(50)\n",
    "\n",
    "[k.shape for k in [x, y]]"
   ]
  },
  {
   "cell_type": "code",
   "execution_count": 8,
   "metadata": {},
   "outputs": [
    {
     "name": "stdout",
     "output_type": "stream",
     "text": [
      "{0: (0, -0.0), 1: (1, 2.45), 2: (2, 5.72), 3: (3, 12.97), 4: (4, 12.56), 5: (5, 16.52), 6: (6, 18.6), 7: (7, 22.08), 8: (8, 24.75), 9: (9, 27.76), 10: (10, 29.82), 11: (11, 28.39), 12: (12, 38.29), 13: (13, 35.93), 14: (14, 40.27), 15: (15, 47.03), 16: (16, 50.07), 17: (17, 49.35), 18: (18, 54.04), 19: (19, 56.23), 20: (20, 59.39), 21: (21, 64.99), 22: (22, 65.75), 23: (23, 66.05), 24: (24, 68.12), 25: (25, 76.67), 26: (26, 76.87), 27: (27, 83.35), 28: (28, 84.64), 29: (29, 87.38), 30: (30, 90.74), 31: (31, 92.8), 32: (32, 94.12), 33: (33, 96.19), 34: (34, 106.16), 35: (35, 104.76), 36: (36, 109.52), 37: (37, 114.65), 38: (38, 112.68), 39: (39, 115.38), 40: (40, 121.78), 41: (41, 122.57), 42: (42, 124.12), 43: (43, 130.2), 44: (44, 136.45), 45: (45, 137.0), 46: (46, 140.3), 47: (47, 140.69), 48: (48, 140.7), 49: (49, 144.09)}\n"
     ]
    }
   ],
   "source": [
    "xy_pair = {}\n",
    "for i, (j,k) in enumerate(zip(x, y)):\n",
    "    xy_pair[i] = (j, np.round(k,2))\n",
    "    \n",
    "print(xy_pair)"
   ]
  },
  {
   "cell_type": "code",
   "execution_count": 9,
   "metadata": {},
   "outputs": [
    {
     "data": {
      "image/png": "[encoded data removed]",
      "text/plain": [
       "<Figure size 432x288 with 1 Axes>"
      ]
     },
     "metadata": {
      "needs_background": "light"
     },
     "output_type": "display_data"
    }
   ],
   "source": [
    "plt.plot(x, y, 'b.')\n",
    "plt.show()\n"
   ]
  },
  {
   "cell_type": "code",
   "execution_count": 4,
   "metadata": {},
   "outputs": [],
   "source": [
    "# 오차(Error)\n",
    "# 추정된 a, b가 주어진 자료 x와 y를 얼마나 잘 설명하고 있는가?\n",
    "# 손실(Loss), 비용(Cost)\n",
    "# 추정된 값(Y_hat)과 실제값(Y)사이의 차이(오차, 잔차)는 작으면 작을수록 자료간의 관계를 잘 설명하고 있다고 판단"
   ]
  },
  {
   "cell_type": "code",
   "execution_count": null,
   "metadata": {},
   "outputs": [],
   "source": [
    "# 오차에 대한 정의\n",
    "# 1. LAD(Least Absolute Error) : 최소절대오차, L1 loss(L1 norm을 사용하기 때문), manhattan distance사용\n",
    "# 2. LSE(Least Squared Error)  : 최소제곱오차. L2 loss(L2 norm을 사용하기 때문), euclidean distance사용"
   ]
  },
  {
   "cell_type": "code",
   "execution_count": 19,
   "metadata": {},
   "outputs": [],
   "source": [
    "# 오차함수\n",
    "def error(a, b):\n",
    "    return np.mean(np.square(y - (a*x +b)))\n",
    "\n",
    "# 기울기함수(편미분)\n",
    "def grad_fa(a, b):\n",
    "    return np.mean(-2 * x * (y-(a*x+b)))\n",
    "\n",
    "# 기울기함수(편미분)\n",
    "def grad_fb(a, b):\n",
    "    return np.mean(-2 * (y-(a*x+b)))"
   ]
  },
  {
   "cell_type": "code",
   "execution_count": 22,
   "metadata": {},
   "outputs": [],
   "source": [
    "beta0, beta1 = 0, 0\n",
    "\n",
    "lr = 0.01\n",
    "maxIter = 100\n",
    "fval = []\n",
    "beta0_list = []\n",
    "beta1_list = []\n",
    "\n",
    "for i in range(maxIter):\n",
    "    fval.append(error(beta0, beta1))\n",
    "    grad = np.array([grad_fa(beta0, beta1), grad_fb(beta0, beta1)])\n",
    "    beta0 = beta0 - lr * grad[0]\n",
    "    beta1 = beta1 - lr * grad[1]\n",
    "    beta0_list.append(beta0)\n",
    "    beta1_list.append(beta1)\n",
    "    "
   ]
  },
  {
   "cell_type": "code",
   "execution_count": 23,
   "metadata": {},
   "outputs": [
    {
     "name": "stdout",
     "output_type": "stream",
     "text": [
      "[48.55757601817283, -688.7823114142547, 10507.615424885626, -159508.04093068512, 2422154.7444378254, -36780015.69580804, 558499188.051007, -8480728141.305959, 128778612009.5114, -1955484320226.984, 29693742362065.242, -450895119098078.6, 6846776197742748.0, -1.0396729154164853e+17, 1.5787280609624328e+18, -2.3972753868189143e+19, 3.6402274858814525e+20, -5.527632003326354e+21, 8.393628058329748e+22, -1.2745600998616416e+24, 1.9354008026924403e+25, -2.938877709626371e+26, 4.462642663020159e+27, -6.776457377785733e+28, 1.0289951058252422e+30, -1.5625139638350145e+31, 2.372654518333587e+32, -3.602841058490023e+33, 5.470861262118443e+34, -8.307422521128983e+35, 1.2614699155766473e+37, -1.9155235500032024e+38, 2.908694393190962e+39, -4.416809740066309e+40, 6.706860757050274e+41, -1.0184269611256937e+43, 1.5464663912358908e+44, -2.3482865149001045e+45, 3.5658386029680814e+46, -5.414673576558122e+47, 8.222102345370553e+48, -1.248514172127072e+50, 1.895850443749124e+51, -2.878821070120727e+52, 4.37144753748716e+53, -6.637978918294208e+54, 1.0079673550205053e+56, -1.5305836328990919e+57, 2.324168779504694e+58, -3.5292161757883274e+59, 5.359062958457073e+60, -8.137658438078404e+61, 1.2356914887578489e+63, -1.8763793872739067e+64, 2.849254556673856e+65, -4.3265512208175095e+66, 6.569804520453095e+67, -9.97615172779818e+68, 1.5148639961236906e+70, -2.3002987418058456e+71, 3.492969873924912e+72, -5.304023481127834e+73, 8.05408179966461e+74, -1.2230004988947624e+76, 1.8571083054546615e+77, -2.8199917018067e+78, 4.2821160052438264e+79, -6.502330297857823e+80, 9.873693111224421e+81, -1.4993058055933945e+83, 2.276673857860361e+84, -3.4570958344374295e+85, 5.249549278752105e+86, -7.971363522970196e+87, 1.2104398499987951e+89, -1.8380351444807438e+90, 2.7910293868379434e+91, -4.238137155094314e+92, 6.435549059460277e+93, -9.772286780982766e+94, 1.483907403198003e+96, -2.253291609852239e+97, 3.4215902340592396e+98, -5.195634545755609e+99, 7.889494792315836e+100, -1.198008203421983e+102, 1.8191578716348715e+103, -2.7623645251162312e+104, 4.1946099833341966e+105, -6.369453688066959e+106, 9.671921929719361e+107, -1.4686671478566984e+109, 2.2301495058243466e+110, -3.386449288790016e+111, 5.1422735361894e+112, -7.8084668825624e+113, 1.185704234264757e+115, -1.8004744750764957e+116, 2.733994061691221e+117, -4.151529851066224e+118]\n"
     ]
    }
   ],
   "source": [
    "print(beta0_list)"
   ]
  },
  {
   "cell_type": "code",
   "execution_count": 21,
   "metadata": {},
   "outputs": [
    {
     "name": "stdout",
     "output_type": "stream",
     "text": [
      "[7295.106219477046, 1681112.075888889, 387629439.09085757, 89379504789.26607, 20609105395539.27, 4752042721944077.0, 1.0957249040064634e+18, 2.526519931556505e+20, 5.825643773553071e+22, 1.3432755844292716e+25, 3.0973217138941215e+27, 7.141797193787339e+29, 1.6467539335157443e+32, 3.7970813843727927e+34, 8.755301412135691e+36, 2.018795360374064e+39, 4.6549336398844746e+41, 1.0733335144832706e+44, 2.4748899177467096e+46, 5.7065954079642066e+48, 1.3158254400198756e+51, 3.0340272348502894e+53, 6.995852931430053e+55, 1.6131021394939273e+58, 3.7194871560971775e+60, 8.576384821305946e+62, 1.977540814532801e+65, 4.559809004171486e+67, 1.05139969813647e+70, 2.424314975101285e+72, 5.589979823008733e+74, 1.2889362456022973e+77, 2.972026192991055e+79, 6.852891073520414e+81, 1.5801380275950064e+84, 3.643478583658825e+86, 8.40112443201254e+88, 1.9371293147902042e+91, 4.466628262189231e+93, 1.0299141043533432e+96, 2.374773542999202e+98, 5.4757473042569036e+100, 1.2625965380349038e+103, 2.911292156631141e+105, 6.712850673940066e+107, 1.5478475448772005e+110, 3.5690232638173066e+112, 8.22944552893916e+114, 1.89754363330604e+117, 4.375351690023814e+119, 1.0088675736030733e+122, 2.3262445014156407e+124, 5.363849153204682e+126, 1.236795088427978e+129, 2.851799234222797e+131, 6.575672032018523e+133, 1.5162169255738193e+136, 3.49608945549985e+138, 8.061274923594146e+140, 1.8587668942949508e+143, 4.285940375528673e+145, 9.882511335319704e+147, 2.278707161918358e+150, 5.254237666513174e+152, 1.2115208973567505e+155, 2.7935220633180026e+157, 6.441296667082196e+159, 1.4852326852247641e+162, 3.424646066269773e+164, 7.89654092310941e+166, 1.8207825668321092e+169, 4.198356201735839e+171, 9.680559951384388e+173, 2.232141258847949e+176, 5.14686611567214e+178, 1.1867631901722091e+181, 2.7364357997561625e+183, 6.309667293523457e+185, 1.454881614927973e+188, 3.354662639071456e+190, 7.735173299677045e+192, 1.7835744578059244e+195, 4.112561830606324e+197, 9.482735490261432e+199, 2.186526940678392e+202, 5.041688727079113e+204, 1.1625114124077617e+207, 2.680516107072794e+209, 6.180727796379191e+211, 1.425150775708319e+214, 3.2861093392461994e+216, 7.577103260610503e+218, 1.7471267050147577e+221, 4.0285206871125324e+223, 9.288953617337413e+225, 2.1418447615541705e+228, 4.938660662525732e+230, 1.1387552252797682e+233, 2.625739146124659e+235, 6.054423207408438e+237]\n"
     ]
    }
   ],
   "source": [
    "print(fval)"
   ]
  },
  {
   "cell_type": "code",
   "execution_count": 40,
   "metadata": {},
   "outputs": [
    {
     "name": "stdout",
     "output_type": "stream",
     "text": [
      "[nan nan]\n"
     ]
    }
   ],
   "source": [
    "print(beta0)"
   ]
  },
  {
   "cell_type": "code",
   "execution_count": 9,
   "metadata": {},
   "outputs": [
    {
     "data": {
      "image/png": "[encoded data removed]",
      "text/plain": [
       "<Figure size 432x288 with 1 Axes>"
      ]
     },
     "metadata": {
      "needs_background": "light"
     },
     "output_type": "display_data"
    }
   ],
   "source": [
    "plt.plot(fval)\n",
    "plt.grid()\n",
    "plt.show()"
   ]
  },
  {
   "cell_type": "code",
   "execution_count": 12,
   "metadata": {},
   "outputs": [
    {
     "data": {
      "text/plain": [
       "array([-1.14285927e+291, -3.46431258e+289])"
      ]
     },
     "execution_count": 12,
     "metadata": {},
     "output_type": "execute_result"
    }
   ],
   "source": [
    "beta0"
   ]
  },
  {
   "cell_type": "code",
   "execution_count": 11,
   "metadata": {},
   "outputs": [
    {
     "data": {
      "text/plain": [
       "[<matplotlib.lines.Line2D at 0x25e990bc550>]"
      ]
     },
     "execution_count": 11,
     "metadata": {},
     "output_type": "execute_result"
    },
    {
     "data": {
      "image/png": "[encoded data removed]",
      "text/plain": [
       "<Figure size 432x288 with 1 Axes>"
      ]
     },
     "metadata": {
      "needs_background": "light"
     },
     "output_type": "display_data"
    }
   ],
   "source": [
    "plt.plot(x, y, 'b.')\n",
    "plt.plot(x, beta0[0]*x + beta0[1], 'r-')"
   ]
  },
  {
   "cell_type": "code",
   "execution_count": null,
   "metadata": {},
   "outputs": [],
   "source": []
  }
 ],
 "metadata": {
  "kernelspec": {
   "display_name": "Python 3.9.12 ('base')",
   "language": "python",
   "name": "python3"
  },
  "language_info": {
   "codemirror_mode": {
    "name": "ipython",
    "version": 3
   },
   "file_extension": ".py",
   "mimetype": "text/x-python",
   "name": "python",
   "nbconvert_exporter": "python",
   "pygments_lexer": "ipython3",
   "version": "3.9.12"
  },
  "orig_nbformat": 4,
  "vscode": {
   "interpreter": {
    "hash": "9e765a96e5f40489db376370017179d79de916a29247b681d0d65e2e01ae9302"
   }
  }
 },
 "nbformat": 4,
 "nbformat_minor": 2
}
