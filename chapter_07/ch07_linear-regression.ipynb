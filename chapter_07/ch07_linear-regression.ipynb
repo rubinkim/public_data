{
 "cells": [
  {
   "cell_type": "markdown",
   "metadata": {},
   "source": [
    "##### 선형회귀"
   ]
  },
  {
   "cell_type": "code",
   "execution_count": 27,
   "metadata": {},
   "outputs": [],
   "source": [
    "import warnings\n",
    "warnings.filterwarnings(\"always\")\n",
    "warnings.filterwarnings(\"ignore\")\n",
    "\n",
    "import numpy as np\n",
    "import pandas as pd\n",
    "\n",
    "import matplotlib.pyplot as plt\n",
    "import seaborn as sns\n",
    "import plotly.express as px\n",
    "\n",
    "# 전처리\n",
    "from sklearn.preprocessing import StandardScaler, MinMaxScaler\n",
    "from sklearn.model_selection import train_test_split, KFold\n",
    "\n",
    "# 모형\n",
    "from sklearn.linear_model import LinearRegression, Ridge, Lasso, ElasticNet\n",
    "\n",
    "# 다항회귀\n",
    "from sklearn.preprocessing import PolynomialFeatures\n",
    "\n",
    "# 샘플데이터\n",
    "from sklearn.datasets import fetch_california_housing\n",
    "\n",
    "# 평가\n",
    "from sklearn.metrics import r2_score, mean_absolute_error, mean_squared_error"
   ]
  },
  {
   "cell_type": "markdown",
   "metadata": {},
   "source": [
    "##### 데이터 생성"
   ]
  },
  {
   "cell_type": "code",
   "execution_count": 28,
   "metadata": {},
   "outputs": [
    {
     "data": {
      "text/plain": [
       "[(50,), (50,)]"
      ]
     },
     "execution_count": 28,
     "metadata": {},
     "output_type": "execute_result"
    }
   ],
   "source": [
    "np.random.seed(2022)\n",
    "x = np.arange(50)\n",
    "y = 2 * x + 10 * np.random.randn(50)\n",
    "\n",
    "[k.shape for k in [x, y]]"
   ]
  },
  {
   "cell_type": "code",
   "execution_count": 14,
   "metadata": {},
   "outputs": [
    {
     "data": {
      "image/png": "[encoded data removed]",
      "text/plain": [
       "<Figure size 432x288 with 1 Axes>"
      ]
     },
     "metadata": {
      "needs_background": "light"
     },
     "output_type": "display_data"
    }
   ],
   "source": [
    "plt.plot(x, y, 'b.')\n",
    "plt.show()\n"
   ]
  },
  {
   "cell_type": "code",
   "execution_count": 4,
   "metadata": {},
   "outputs": [],
   "source": [
    "# 오차(Error)\n",
    "# 추정된 a, b가 주어진 자료 x와 y를 얼마나 잘 설명하고 있는가?\n",
    "# 손실(Loss), 비용(Cost)\n",
    "# 추정된 값(Y_hat)과 실제값(Y)사이의 차이(오차, 잔차)는 작으면 작을수록 자료간의 관계를 잘 설명하고 있다고 판단"
   ]
  },
  {
   "cell_type": "code",
   "execution_count": null,
   "metadata": {},
   "outputs": [],
   "source": [
    "# 오차에 대한 정의\n",
    "# 1. LAD(Least Absolute Error) : 최소절대오차, L1 loss(L1 norm을 사용하기 때문), manhattan distance사용\n",
    "# 2. LSE(Least Squared Error)  : 최소제곱오차. L2 loss(L2 norm을 사용하기 때문), euclidean distance사용"
   ]
  },
  {
   "cell_type": "code",
   "execution_count": 45,
   "metadata": {},
   "outputs": [],
   "source": [
    "# 오차함수\n",
    "def error(a, b):\n",
    "    return np.sum(np.square(y - (a*x +b)))\n",
    "\n",
    "# 기울기함수(편미분)\n",
    "def grad_fa(a, b):\n",
    "    return np.sum(-2 * x * (y-(a*x+b)))\n",
    "\n",
    "# 기울기함수(편미분)\n",
    "def grad_fb(a, b):\n",
    "    return np.sum(-2 * (y-(a*x+b)))"
   ]
  },
  {
   "cell_type": "code",
   "execution_count": 48,
   "metadata": {},
   "outputs": [],
   "source": [
    "beta0 = np.array([0, 0])\n",
    "\n",
    "lr = 0.01\n",
    "maxIter = 10\n",
    "fval = []\n",
    "\n",
    "for i in range(maxIter):\n",
    "    fval.append(error(*beta0))\n",
    "    grad = np.array([grad_fa(*beta0), grad_fb(*beta0)])\n",
    "    beta1 = beta0 - lr * grad\n",
    "    beta0 = beta1\n",
    "    "
   ]
  },
  {
   "cell_type": "code",
   "execution_count": 49,
   "metadata": {},
   "outputs": [
    {
     "name": "stdout",
     "output_type": "stream",
     "text": [
      "[169495.56844014008, 107192103814.2964, 7.002390271285126e+16, 4.574354848719011e+22, 2.9882256588592716e+28, 1.9520769340326783e+34, 1.27520635701826e+40, 8.330364570316468e+45, 5.441862290950783e+51, 3.554930272703186e+57]\n"
     ]
    }
   ],
   "source": [
    "print(fval)"
   ]
  },
  {
   "cell_type": "code",
   "execution_count": null,
   "metadata": {},
   "outputs": [],
   "source": []
  },
  {
   "cell_type": "code",
   "execution_count": 40,
   "metadata": {},
   "outputs": [
    {
     "name": "stdout",
     "output_type": "stream",
     "text": [
      "[nan nan]\n"
     ]
    }
   ],
   "source": [
    "print(beta0)"
   ]
  },
  {
   "cell_type": "code",
   "execution_count": 9,
   "metadata": {},
   "outputs": [
    {
     "data": {
      "image/png": "[encoded data removed]",
      "text/plain": [
       "<Figure size 432x288 with 1 Axes>"
      ]
     },
     "metadata": {
      "needs_background": "light"
     },
     "output_type": "display_data"
    }
   ],
   "source": [
    "plt.plot(fval)\n",
    "plt.grid()\n",
    "plt.show()"
   ]
  },
  {
   "cell_type": "code",
   "execution_count": 12,
   "metadata": {},
   "outputs": [
    {
     "data": {
      "text/plain": [
       "array([-1.14285927e+291, -3.46431258e+289])"
      ]
     },
     "execution_count": 12,
     "metadata": {},
     "output_type": "execute_result"
    }
   ],
   "source": [
    "beta0"
   ]
  },
  {
   "cell_type": "code",
   "execution_count": 11,
   "metadata": {},
   "outputs": [
    {
     "data": {
      "text/plain": [
       "[<matplotlib.lines.Line2D at 0x25e990bc550>]"
      ]
     },
     "execution_count": 11,
     "metadata": {},
     "output_type": "execute_result"
    },
    {
     "data": {
      "image/png": "[encoded data removed]",
      "text/plain": [
       "<Figure size 432x288 with 1 Axes>"
      ]
     },
     "metadata": {
      "needs_background": "light"
     },
     "output_type": "display_data"
    }
   ],
   "source": [
    "plt.plot(x, y, 'b.')\n",
    "plt.plot(x, beta0[0]*x + beta0[1], 'r-')"
   ]
  },
  {
   "cell_type": "code",
   "execution_count": null,
   "metadata": {},
   "outputs": [],
   "source": []
  }
 ],
 "metadata": {
  "kernelspec": {
   "display_name": "Python 3.9.12 ('base')",
   "language": "python",
   "name": "python3"
  },
  "language_info": {
   "codemirror_mode": {
    "name": "ipython",
    "version": 3
   },
   "file_extension": ".py",
   "mimetype": "text/x-python",
   "name": "python",
   "nbconvert_exporter": "python",
   "pygments_lexer": "ipython3",
   "version": "3.9.12"
  },
  "orig_nbformat": 4,
  "vscode": {
   "interpreter": {
    "hash": "9e765a96e5f40489db376370017179d79de916a29247b681d0d65e2e01ae9302"
   }
  }
 },
 "nbformat": 4,
 "nbformat_minor": 2
}
