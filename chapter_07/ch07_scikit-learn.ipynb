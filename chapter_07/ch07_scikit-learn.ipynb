{
 "cells": [
  {
   "cell_type": "code",
   "execution_count": 1,
   "metadata": {},
   "outputs": [],
   "source": [
    "import numpy as np\n",
    "import pandas as pd\n",
    "\n",
    "import matplotlib.pyplot as plt\n",
    "import seaborn as sns\n",
    "import plotly.express as px\n",
    "\n",
    "from sklearn.model_selection import train_test_split, KFold\n",
    "from sklearn.preprocessing import StandardScaler, MinMaxScaler"
   ]
  },
  {
   "cell_type": "code",
   "execution_count": 14,
   "metadata": {},
   "outputs": [
    {
     "data": {
      "text/plain": [
       "array([ 0,  1,  2,  3,  4,  5,  6,  7,  8,  9, 10, 11, 12, 13, 14, 15, 16,\n",
       "       17, 18, 19])"
      ]
     },
     "execution_count": 14,
     "metadata": {},
     "output_type": "execute_result"
    }
   ],
   "source": [
    "# 데이터 분할\n",
    "x = np.arange(20)\n",
    "x"
   ]
  },
  {
   "cell_type": "code",
   "execution_count": 16,
   "metadata": {},
   "outputs": [
    {
     "name": "stdout",
     "output_type": "stream",
     "text": [
      "train data : [ 7 18  3 14 16  4 10  1 15  6 13 12  8 19  0], test data : [ 5  9 17  2 11]\n"
     ]
    }
   ],
   "source": [
    "train, test = train_test_split(x)\n",
    "print(f\"train data : {train}, test data : {test}\")"
   ]
  },
  {
   "cell_type": "code",
   "execution_count": 20,
   "metadata": {},
   "outputs": [
    {
     "name": "stdout",
     "output_type": "stream",
     "text": [
      "train data : [ 5  6  7  8  9 10 11 12 13 14 15 16 17 18 19], test data : [0 1 2 3 4]\n",
      "train data : [ 0  1  2  3  4 10 11 12 13 14 15 16 17 18 19], test data : [5 6 7 8 9]\n",
      "train data : [ 0  1  2  3  4  5  6  7  8  9 15 16 17 18 19], test data : [10 11 12 13 14]\n",
      "train data : [ 0  1  2  3  4  5  6  7  8  9 10 11 12 13 14], test data : [15 16 17 18 19]\n"
     ]
    }
   ],
   "source": [
    "# 교차검증\n",
    "fold = KFold(n_splits=4)\n",
    "for train, test in fold.split(x):\n",
    "    print(f\"train data : {train}, test data : {test}\")"
   ]
  },
  {
   "cell_type": "code",
   "execution_count": null,
   "metadata": {},
   "outputs": [],
   "source": []
  }
 ],
 "metadata": {
  "kernelspec": {
   "display_name": "Python 3.9.12 ('base')",
   "language": "python",
   "name": "python3"
  },
  "language_info": {
   "codemirror_mode": {
    "name": "ipython",
    "version": 3
   },
   "file_extension": ".py",
   "mimetype": "text/x-python",
   "name": "python",
   "nbconvert_exporter": "python",
   "pygments_lexer": "ipython3",
   "version": "3.9.12"
  },
  "orig_nbformat": 4,
  "vscode": {
   "interpreter": {
    "hash": "9e765a96e5f40489db376370017179d79de916a29247b681d0d65e2e01ae9302"
   }
  }
 },
 "nbformat": 4,
 "nbformat_minor": 2
}
