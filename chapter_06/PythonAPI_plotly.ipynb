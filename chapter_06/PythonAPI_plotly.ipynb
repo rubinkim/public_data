{
 "cells": [
  {
   "cell_type": "markdown",
   "metadata": {},
   "source": [
    "### Python API reference for plotly\n",
    "- This is the reference of plotly's API. Also see plotly's documentation website"
   ]
  },
  {
   "cell_type": "markdown",
   "metadata": {},
   "source": [
    "### Submodules\n",
    "- Plotly Express : high-level interface for data visualization\n",
    "- Graph Objects : low-level interface for figures, traces and layout\n",
    "- Subplots : helper function for layout out multi-plot figures\n",
    "- Figure Factories : helper methods for building specific complex charts\n",
    "- I/O : low-level interface for displaying, reading, and writing figures\n",
    "- plotly.colors : colorscales and utility functions\n",
    "- plotly.data : built-in datasets for demonstration, educational and test purposes"
   ]
  },
  {
   "cell_type": "code",
   "execution_count": 4,
   "metadata": {},
   "outputs": [],
   "source": [
    "# plotly.express : high-level interface for data visualization\n",
    "\n",
    "#   plotly.express.scatter, scatter_3d, scatter_polar, scatter_ternary, scatter_mapbox, scatter_geo, scatter_matrix\n",
    "#   plotly.express.line, line_3d, line_polar, line_ternary, line_mapbox, line_geo\n",
    "#   plotly.express.area\n",
    "#   plotly.express.bar\n",
    "#   plotly.express.timeline\n",
    "#   plotly.express.bar_polar\n",
    "#   plotly.express.violin\n",
    "#   plotly.express.box\n",
    "#   plotly.express.ecdf\n",
    "#   plotly.express.strip\n",
    "#   plotly.express.histogram\n",
    "#   plotly.express.pie\n",
    "#   plotly.express.treemap\n",
    "#   plotly.express.sunburst\n",
    "#   plotly.express.icicle\n",
    "#   plotly.express.funnel, funnel_area\n",
    "#   plotly.express.parallel_coordinates, parallel_categories\n",
    "#   plotly.express.choropleth, choropleth_mapbox\n",
    "#   plotly.express.density_contour, density_heatmap, density_mapbox\n",
    "#   plotly.express.imshow\n",
    "#   plotly.express.set_mapbox_access_token\n",
    "#   plotly.express.get_trendline_results\n",
    "\n",
    "# plotly.express subpackages\n",
    "\n",
    "#   plotly.express.data package\n",
    "#   plotly.express.color package\n",
    "#   plotly.express.trendline_functions package"
   ]
  }
 ],
 "metadata": {
  "kernelspec": {
   "display_name": "Python 3.9.12 ('base')",
   "language": "python",
   "name": "python3"
  },
  "language_info": {
   "codemirror_mode": {
    "name": "ipython",
    "version": 3
   },
   "file_extension": ".py",
   "mimetype": "text/x-python",
   "name": "python",
   "nbconvert_exporter": "python",
   "pygments_lexer": "ipython3",
   "version": "3.9.12"
  },
  "orig_nbformat": 4,
  "vscode": {
   "interpreter": {
    "hash": "9e765a96e5f40489db376370017179d79de916a29247b681d0d65e2e01ae9302"
   }
  }
 },
 "nbformat": 4,
 "nbformat_minor": 2
}
